{
 "cells": [
  {
   "cell_type": "code",
   "execution_count": 4,
   "metadata": {},
   "outputs": [],
   "source": [
    "import warnings\n",
    "warnings.simplefilter('ignore')\n",
    "# data analysis and wrangling\n",
    "import pandas as pd\n",
    "import numpy as np\n",
    "import random as rnd\n",
    "\n",
    "## Data Processing\n",
    "# from sklearn.datasets import load_breast_cancer\n",
    "from sklearn.decomposition import PCA\n",
    "from sklearn.preprocessing import StandardScaler\n",
    "from sklearn.cluster import KMeans\n",
    "\n",
    "# visualization\n",
    "import seaborn as sns\n",
    "sns.set(style=\"whitegrid\", color_codes=True)\n",
    "import matplotlib.pyplot as plt\n",
    "%matplotlib inline\n",
    "\n",
    "## Data Modeling\n",
    "from sklearn.model_selection import train_test_split, GridSearchCV\n",
    "from sklearn.pipeline import Pipeline\n",
    "from sklearn.feature_selection import RFE\n",
    "from imblearn.over_sampling import SMOTE\n",
    "## Machine Learning Algorithms\n",
    "import xgboost as xgb\n",
    "from sklearn.linear_model import LogisticRegression\n",
    "from sklearn.svm import SVC, LinearSVC\n",
    "from sklearn.ensemble import RandomForestClassifier, AdaBoostClassifier, GradientBoostingClassifier\n",
    "from sklearn.neighbors import KNeighborsClassifier\n",
    "from sklearn.naive_bayes import GaussianNB\n",
    "from sklearn.linear_model import Perceptron\n",
    "from sklearn.linear_model import SGDClassifier\n",
    "from sklearn.tree import DecisionTreeClassifier\n",
    "\n",
    "## Metrics\n",
    "from sklearn.metrics import accuracy_score, precision_score, recall_score, f1_score, confusion_matrix, classification_report"
   ]
  },
  {
   "cell_type": "code",
   "execution_count": 3,
   "metadata": {},
   "outputs": [
    {
     "name": "stdout",
     "output_type": "stream",
     "text": [
      "Requirement already satisfied: six in /Users/dayanaedat/anaconda3/envs/learn-env/lib/python3.6/site-packages (1.12.0)\n",
      "Note: you may need to restart the kernel to use updated packages.\n"
     ]
    }
   ],
   "source": [
    "pip install six"
   ]
  },
  {
   "cell_type": "code",
   "execution_count": 112,
   "metadata": {},
   "outputs": [
    {
     "data": {
      "text/html": [
       "\n",
       "                <audio  controls=\"controls\" autoplay=\"autoplay\">\n",
       "                    <source src=\"data:audio/wav;base64,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\" type=\"audio/wav\" />\n",
       "                    Your browser does not support the audio element.\n",
       "                </audio>\n",
       "              "
      ],
      "text/plain": [
       "<IPython.lib.display.Audio object>"
      ]
     },
     "execution_count": 112,
     "metadata": {},
     "output_type": "execute_result"
    }
   ],
   "source": [
    "from IPython.display import Audio\n",
    "# signal = np.random.random(750)\n",
    "# play = Audio(signal, autoplay=True, rate=250)\n",
    "# play"
   ]
  },
  {
   "cell_type": "code",
   "execution_count": 5,
   "metadata": {},
   "outputs": [],
   "source": [
    "sample = pd.read_csv('~/Documents/Flatiron_ds/sampleSubmission.csv')\n",
    "testdf = pd.read_csv('~/Documents/Flatiron_ds/train_data.csv')\n",
    "traindf = pd.read_csv('~/Documents/Flatiron_ds/test_data.csv')\n",
    "# mixed up"
   ]
  },
  {
   "cell_type": "code",
   "execution_count": 9,
   "metadata": {},
   "outputs": [],
   "source": [
    "# traindf.drop(\"Unnamed: 0\", axis=1, inplace=True)\n",
    "traindf.drop(\"index\", axis=1, inplace=True)\n",
    "# testdf.drop(\"Unnamed: 0\", axis=1, inplace=True)"
   ]
  },
  {
   "cell_type": "code",
   "execution_count": 11,
   "metadata": {},
   "outputs": [],
   "source": [
    "train_df = pd.DataFrame(data=testdf)\n",
    "# train_df.drop(['StandardHours'], axis=1, inplace=True)\n",
    "# testdf.drop(['StandardHours'], axis=1, inplace=True)"
   ]
  },
  {
   "cell_type": "code",
   "execution_count": 24,
   "metadata": {},
   "outputs": [
    {
     "data": {
      "text/plain": [
       "Index(['Age', 'BusinessTravel', 'Department', 'DistanceFromHome', 'Education',\n",
       "       'EducationField', 'Gender', 'JobRole', 'MaritalStatus', 'MonthlyIncome',\n",
       "       'NumCompaniesWorked', 'PercentSalaryHike', 'StockOptionLevel',\n",
       "       'TotalWorkingYears', 'TrainingTimesLastYear', 'YearsAtCompany',\n",
       "       'YearsSinceLastPromotion', 'YearsWithCurrManager', 'Attrition'],\n",
       "      dtype='object')"
      ]
     },
     "execution_count": 24,
     "metadata": {},
     "output_type": "execute_result"
    }
   ],
   "source": [
    "train_df.columns"
   ]
  },
  {
   "cell_type": "code",
   "execution_count": 13,
   "metadata": {},
   "outputs": [
    {
     "data": {
      "text/html": [
       "<div>\n",
       "<style scoped>\n",
       "    .dataframe tbody tr th:only-of-type {\n",
       "        vertical-align: middle;\n",
       "    }\n",
       "\n",
       "    .dataframe tbody tr th {\n",
       "        vertical-align: top;\n",
       "    }\n",
       "\n",
       "    .dataframe thead th {\n",
       "        text-align: right;\n",
       "    }\n",
       "</style>\n",
       "<table border=\"1\" class=\"dataframe\">\n",
       "  <thead>\n",
       "    <tr style=\"text-align: right;\">\n",
       "      <th></th>\n",
       "      <th>Age</th>\n",
       "      <th>BusinessTravel</th>\n",
       "      <th>Department</th>\n",
       "      <th>DistanceFromHome</th>\n",
       "      <th>Education</th>\n",
       "      <th>EducationField</th>\n",
       "      <th>Gender</th>\n",
       "      <th>JobRole</th>\n",
       "      <th>MaritalStatus</th>\n",
       "      <th>MonthlyIncome</th>\n",
       "      <th>NumCompaniesWorked</th>\n",
       "      <th>PercentSalaryHike</th>\n",
       "      <th>StockOptionLevel</th>\n",
       "      <th>TotalWorkingYears</th>\n",
       "      <th>TrainingTimesLastYear</th>\n",
       "      <th>YearsAtCompany</th>\n",
       "      <th>YearsSinceLastPromotion</th>\n",
       "      <th>YearsWithCurrManager</th>\n",
       "      <th>Attrition</th>\n",
       "    </tr>\n",
       "  </thead>\n",
       "  <tbody>\n",
       "    <tr>\n",
       "      <td>0</td>\n",
       "      <td>40</td>\n",
       "      <td>Travel_Rarely</td>\n",
       "      <td>Research &amp; Development</td>\n",
       "      <td>2</td>\n",
       "      <td>3</td>\n",
       "      <td>Medical</td>\n",
       "      <td>Male</td>\n",
       "      <td>Research Director</td>\n",
       "      <td>Single</td>\n",
       "      <td>47750</td>\n",
       "      <td>3.0</td>\n",
       "      <td>15</td>\n",
       "      <td>1</td>\n",
       "      <td>15.0</td>\n",
       "      <td>3</td>\n",
       "      <td>5</td>\n",
       "      <td>1</td>\n",
       "      <td>0</td>\n",
       "      <td>1</td>\n",
       "    </tr>\n",
       "    <tr>\n",
       "      <td>1</td>\n",
       "      <td>31</td>\n",
       "      <td>Travel_Rarely</td>\n",
       "      <td>Research &amp; Development</td>\n",
       "      <td>28</td>\n",
       "      <td>4</td>\n",
       "      <td>Technical Degree</td>\n",
       "      <td>Female</td>\n",
       "      <td>Sales Executive</td>\n",
       "      <td>Married</td>\n",
       "      <td>127420</td>\n",
       "      <td>1.0</td>\n",
       "      <td>11</td>\n",
       "      <td>0</td>\n",
       "      <td>10.0</td>\n",
       "      <td>4</td>\n",
       "      <td>10</td>\n",
       "      <td>0</td>\n",
       "      <td>2</td>\n",
       "      <td>0</td>\n",
       "    </tr>\n",
       "    <tr>\n",
       "      <td>2</td>\n",
       "      <td>35</td>\n",
       "      <td>Travel_Frequently</td>\n",
       "      <td>Research &amp; Development</td>\n",
       "      <td>3</td>\n",
       "      <td>3</td>\n",
       "      <td>Medical</td>\n",
       "      <td>Female</td>\n",
       "      <td>Laboratory Technician</td>\n",
       "      <td>Married</td>\n",
       "      <td>22580</td>\n",
       "      <td>1.0</td>\n",
       "      <td>11</td>\n",
       "      <td>1</td>\n",
       "      <td>2.0</td>\n",
       "      <td>2</td>\n",
       "      <td>2</td>\n",
       "      <td>2</td>\n",
       "      <td>2</td>\n",
       "      <td>0</td>\n",
       "    </tr>\n",
       "    <tr>\n",
       "      <td>3</td>\n",
       "      <td>33</td>\n",
       "      <td>Travel_Rarely</td>\n",
       "      <td>Research &amp; Development</td>\n",
       "      <td>2</td>\n",
       "      <td>2</td>\n",
       "      <td>Medical</td>\n",
       "      <td>Male</td>\n",
       "      <td>Sales Executive</td>\n",
       "      <td>Single</td>\n",
       "      <td>24400</td>\n",
       "      <td>0.0</td>\n",
       "      <td>18</td>\n",
       "      <td>3</td>\n",
       "      <td>4.0</td>\n",
       "      <td>4</td>\n",
       "      <td>3</td>\n",
       "      <td>0</td>\n",
       "      <td>2</td>\n",
       "      <td>0</td>\n",
       "    </tr>\n",
       "    <tr>\n",
       "      <td>4</td>\n",
       "      <td>32</td>\n",
       "      <td>Travel_Rarely</td>\n",
       "      <td>Research &amp; Development</td>\n",
       "      <td>2</td>\n",
       "      <td>3</td>\n",
       "      <td>Medical</td>\n",
       "      <td>Male</td>\n",
       "      <td>Research Scientist</td>\n",
       "      <td>Married</td>\n",
       "      <td>57470</td>\n",
       "      <td>1.0</td>\n",
       "      <td>13</td>\n",
       "      <td>0</td>\n",
       "      <td>8.0</td>\n",
       "      <td>0</td>\n",
       "      <td>8</td>\n",
       "      <td>0</td>\n",
       "      <td>7</td>\n",
       "      <td>0</td>\n",
       "    </tr>\n",
       "  </tbody>\n",
       "</table>\n",
       "</div>"
      ],
      "text/plain": [
       "   Age     BusinessTravel              Department  DistanceFromHome  \\\n",
       "0   40      Travel_Rarely  Research & Development                 2   \n",
       "1   31      Travel_Rarely  Research & Development                28   \n",
       "2   35  Travel_Frequently  Research & Development                 3   \n",
       "3   33      Travel_Rarely  Research & Development                 2   \n",
       "4   32      Travel_Rarely  Research & Development                 2   \n",
       "\n",
       "   Education    EducationField  Gender                JobRole MaritalStatus  \\\n",
       "0          3           Medical    Male      Research Director        Single   \n",
       "1          4  Technical Degree  Female        Sales Executive       Married   \n",
       "2          3           Medical  Female  Laboratory Technician       Married   \n",
       "3          2           Medical    Male        Sales Executive        Single   \n",
       "4          3           Medical    Male     Research Scientist       Married   \n",
       "\n",
       "   MonthlyIncome  NumCompaniesWorked  PercentSalaryHike  StockOptionLevel  \\\n",
       "0          47750                 3.0                 15                 1   \n",
       "1         127420                 1.0                 11                 0   \n",
       "2          22580                 1.0                 11                 1   \n",
       "3          24400                 0.0                 18                 3   \n",
       "4          57470                 1.0                 13                 0   \n",
       "\n",
       "   TotalWorkingYears  TrainingTimesLastYear  YearsAtCompany  \\\n",
       "0               15.0                      3               5   \n",
       "1               10.0                      4              10   \n",
       "2                2.0                      2               2   \n",
       "3                4.0                      4               3   \n",
       "4                8.0                      0               8   \n",
       "\n",
       "   YearsSinceLastPromotion  YearsWithCurrManager  Attrition  \n",
       "0                        1                     0          1  \n",
       "1                        0                     2          0  \n",
       "2                        2                     2          0  \n",
       "3                        0                     2          0  \n",
       "4                        0                     7          0  "
      ]
     },
     "execution_count": 13,
     "metadata": {},
     "output_type": "execute_result"
    }
   ],
   "source": [
    "train_df.head()"
   ]
  },
  {
   "cell_type": "code",
   "execution_count": 14,
   "metadata": {},
   "outputs": [
    {
     "data": {
      "text/plain": [
       "(2205, 19)"
      ]
     },
     "execution_count": 14,
     "metadata": {},
     "output_type": "execute_result"
    }
   ],
   "source": [
    "train_df.shape"
   ]
  },
  {
   "cell_type": "code",
   "execution_count": 15,
   "metadata": {},
   "outputs": [
    {
     "data": {
      "text/plain": [
       "(2205, 19)"
      ]
     },
     "execution_count": 15,
     "metadata": {},
     "output_type": "execute_result"
    }
   ],
   "source": [
    "testdf.shape"
   ]
  },
  {
   "cell_type": "code",
   "execution_count": 17,
   "metadata": {},
   "outputs": [],
   "source": [
    "# Remove NAs"
   ]
  },
  {
   "cell_type": "code",
   "execution_count": 16,
   "metadata": {},
   "outputs": [
    {
     "data": {
      "text/plain": [
       "Age                         0\n",
       "BusinessTravel              0\n",
       "Department                  0\n",
       "DistanceFromHome            0\n",
       "Education                   0\n",
       "EducationField              0\n",
       "Gender                      0\n",
       "JobRole                     0\n",
       "MaritalStatus               0\n",
       "MonthlyIncome               0\n",
       "NumCompaniesWorked         11\n",
       "PercentSalaryHike           0\n",
       "StockOptionLevel            0\n",
       "TotalWorkingYears           6\n",
       "TrainingTimesLastYear       0\n",
       "YearsAtCompany              0\n",
       "YearsSinceLastPromotion     0\n",
       "YearsWithCurrManager        0\n",
       "Attrition                   0\n",
       "dtype: int64"
      ]
     },
     "execution_count": 16,
     "metadata": {},
     "output_type": "execute_result"
    }
   ],
   "source": [
    "train_df.isnull().sum()"
   ]
  },
  {
   "cell_type": "code",
   "execution_count": 17,
   "metadata": {},
   "outputs": [],
   "source": [
    "train_median = train_df.median()\n",
    "train_df.fillna(train_median, inplace=True)"
   ]
  },
  {
   "cell_type": "code",
   "execution_count": 18,
   "metadata": {},
   "outputs": [
    {
     "data": {
      "text/plain": [
       "Age                        0\n",
       "BusinessTravel             0\n",
       "Department                 0\n",
       "DistanceFromHome           0\n",
       "Education                  0\n",
       "EducationField             0\n",
       "Gender                     0\n",
       "JobRole                    0\n",
       "MaritalStatus              0\n",
       "MonthlyIncome              0\n",
       "NumCompaniesWorked         0\n",
       "PercentSalaryHike          0\n",
       "StockOptionLevel           0\n",
       "TotalWorkingYears          0\n",
       "TrainingTimesLastYear      0\n",
       "YearsAtCompany             0\n",
       "YearsSinceLastPromotion    0\n",
       "YearsWithCurrManager       0\n",
       "Attrition                  0\n",
       "dtype: int64"
      ]
     },
     "execution_count": 18,
     "metadata": {},
     "output_type": "execute_result"
    }
   ],
   "source": [
    "train_df.isnull().sum()"
   ]
  },
  {
   "cell_type": "code",
   "execution_count": null,
   "metadata": {},
   "outputs": [],
   "source": []
  },
  {
   "cell_type": "code",
   "execution_count": 28,
   "metadata": {},
   "outputs": [],
   "source": [
    "train_df = pd.get_dummies(train_df, prefix_sep='_', drop_first=True)"
   ]
  },
  {
   "cell_type": "code",
   "execution_count": 29,
   "metadata": {},
   "outputs": [
    {
     "name": "stdout",
     "output_type": "stream",
     "text": [
      "<class 'pandas.core.frame.DataFrame'>\n",
      "RangeIndex: 2205 entries, 0 to 2204\n",
      "Data columns (total 33 columns):\n",
      "Age                                  2205 non-null int64\n",
      "DistanceFromHome                     2205 non-null int64\n",
      "Education                            2205 non-null int64\n",
      "MonthlyIncome                        2205 non-null int64\n",
      "NumCompaniesWorked                   2205 non-null float64\n",
      "PercentSalaryHike                    2205 non-null int64\n",
      "StockOptionLevel                     2205 non-null int64\n",
      "TotalWorkingYears                    2205 non-null float64\n",
      "TrainingTimesLastYear                2205 non-null int64\n",
      "YearsAtCompany                       2205 non-null int64\n",
      "YearsSinceLastPromotion              2205 non-null int64\n",
      "YearsWithCurrManager                 2205 non-null int64\n",
      "Attrition                            2205 non-null int64\n",
      "BusinessTravel_Travel_Frequently     2205 non-null uint8\n",
      "BusinessTravel_Travel_Rarely         2205 non-null uint8\n",
      "Department_Research & Development    2205 non-null uint8\n",
      "Department_Sales                     2205 non-null uint8\n",
      "EducationField_Life Sciences         2205 non-null uint8\n",
      "EducationField_Marketing             2205 non-null uint8\n",
      "EducationField_Medical               2205 non-null uint8\n",
      "EducationField_Other                 2205 non-null uint8\n",
      "EducationField_Technical Degree      2205 non-null uint8\n",
      "Gender_Male                          2205 non-null uint8\n",
      "JobRole_Human Resources              2205 non-null uint8\n",
      "JobRole_Laboratory Technician        2205 non-null uint8\n",
      "JobRole_Manager                      2205 non-null uint8\n",
      "JobRole_Manufacturing Director       2205 non-null uint8\n",
      "JobRole_Research Director            2205 non-null uint8\n",
      "JobRole_Research Scientist           2205 non-null uint8\n",
      "JobRole_Sales Executive              2205 non-null uint8\n",
      "JobRole_Sales Representative         2205 non-null uint8\n",
      "MaritalStatus_Married                2205 non-null uint8\n",
      "MaritalStatus_Single                 2205 non-null uint8\n",
      "dtypes: float64(2), int64(11), uint8(20)\n",
      "memory usage: 267.1 KB\n",
      "________________________________________\n",
      "<class 'pandas.core.frame.DataFrame'>\n",
      "RangeIndex: 2205 entries, 0 to 2204\n",
      "Data columns (total 19 columns):\n",
      "Age                        2205 non-null int64\n",
      "BusinessTravel             2205 non-null object\n",
      "Department                 2205 non-null object\n",
      "DistanceFromHome           2205 non-null int64\n",
      "Education                  2205 non-null int64\n",
      "EducationField             2205 non-null object\n",
      "Gender                     2205 non-null object\n",
      "JobRole                    2205 non-null object\n",
      "MaritalStatus              2205 non-null object\n",
      "MonthlyIncome              2205 non-null int64\n",
      "NumCompaniesWorked         2205 non-null float64\n",
      "PercentSalaryHike          2205 non-null int64\n",
      "StockOptionLevel           2205 non-null int64\n",
      "TotalWorkingYears          2205 non-null float64\n",
      "TrainingTimesLastYear      2205 non-null int64\n",
      "YearsAtCompany             2205 non-null int64\n",
      "YearsSinceLastPromotion    2205 non-null int64\n",
      "YearsWithCurrManager       2205 non-null int64\n",
      "Attrition                  2205 non-null int64\n",
      "dtypes: float64(2), int64(11), object(6)\n",
      "memory usage: 327.4+ KB\n"
     ]
    }
   ],
   "source": [
    "train_df.info()\n",
    "print('_'*40)\n",
    "testdf.info()"
   ]
  },
  {
   "cell_type": "code",
   "execution_count": 30,
   "metadata": {},
   "outputs": [
    {
     "data": {
      "text/plain": [
       "(2205, 33)"
      ]
     },
     "execution_count": 30,
     "metadata": {},
     "output_type": "execute_result"
    }
   ],
   "source": [
    "train_df.shape"
   ]
  },
  {
   "cell_type": "code",
   "execution_count": 31,
   "metadata": {},
   "outputs": [
    {
     "data": {
      "text/plain": [
       "0    1849\n",
       "1     356\n",
       "Name: Attrition, dtype: int64"
      ]
     },
     "execution_count": 31,
     "metadata": {},
     "output_type": "execute_result"
    }
   ],
   "source": [
    "train_df['Attrition'].value_counts().sort_index()"
   ]
  },
  {
   "cell_type": "code",
   "execution_count": 32,
   "metadata": {},
   "outputs": [
    {
     "data": {
      "text/plain": [
       "0    0.84\n",
       "1    0.16\n",
       "Name: Attrition, dtype: float64"
      ]
     },
     "execution_count": 32,
     "metadata": {},
     "output_type": "execute_result"
    }
   ],
   "source": [
    "round(train_df['Attrition'].value_counts(normalize=True), 2)"
   ]
  },
  {
   "cell_type": "code",
   "execution_count": null,
   "metadata": {},
   "outputs": [],
   "source": [
    "# SMOTE"
   ]
  },
  {
   "cell_type": "code",
   "execution_count": 28,
   "metadata": {},
   "outputs": [
    {
     "data": {
      "text/html": [
       "<div>\n",
       "<style scoped>\n",
       "    .dataframe tbody tr th:only-of-type {\n",
       "        vertical-align: middle;\n",
       "    }\n",
       "\n",
       "    .dataframe tbody tr th {\n",
       "        vertical-align: top;\n",
       "    }\n",
       "\n",
       "    .dataframe thead th {\n",
       "        text-align: right;\n",
       "    }\n",
       "</style>\n",
       "<table border=\"1\" class=\"dataframe\">\n",
       "  <thead>\n",
       "    <tr style=\"text-align: right;\">\n",
       "      <th></th>\n",
       "      <th>index</th>\n",
       "      <th>Attrition</th>\n",
       "    </tr>\n",
       "  </thead>\n",
       "  <tbody>\n",
       "    <tr>\n",
       "      <td>count</td>\n",
       "      <td>2205.000000</td>\n",
       "      <td>2205.000000</td>\n",
       "    </tr>\n",
       "    <tr>\n",
       "      <td>mean</td>\n",
       "      <td>1102.000000</td>\n",
       "      <td>0.152695</td>\n",
       "    </tr>\n",
       "    <tr>\n",
       "      <td>std</td>\n",
       "      <td>636.672993</td>\n",
       "      <td>0.150216</td>\n",
       "    </tr>\n",
       "    <tr>\n",
       "      <td>min</td>\n",
       "      <td>0.000000</td>\n",
       "      <td>0.003568</td>\n",
       "    </tr>\n",
       "    <tr>\n",
       "      <td>25%</td>\n",
       "      <td>551.000000</td>\n",
       "      <td>0.055544</td>\n",
       "    </tr>\n",
       "    <tr>\n",
       "      <td>50%</td>\n",
       "      <td>1102.000000</td>\n",
       "      <td>0.098652</td>\n",
       "    </tr>\n",
       "    <tr>\n",
       "      <td>75%</td>\n",
       "      <td>1653.000000</td>\n",
       "      <td>0.193849</td>\n",
       "    </tr>\n",
       "    <tr>\n",
       "      <td>max</td>\n",
       "      <td>2204.000000</td>\n",
       "      <td>0.863295</td>\n",
       "    </tr>\n",
       "  </tbody>\n",
       "</table>\n",
       "</div>"
      ],
      "text/plain": [
       "             index    Attrition\n",
       "count  2205.000000  2205.000000\n",
       "mean   1102.000000     0.152695\n",
       "std     636.672993     0.150216\n",
       "min       0.000000     0.003568\n",
       "25%     551.000000     0.055544\n",
       "50%    1102.000000     0.098652\n",
       "75%    1653.000000     0.193849\n",
       "max    2204.000000     0.863295"
      ]
     },
     "execution_count": 28,
     "metadata": {},
     "output_type": "execute_result"
    }
   ],
   "source": [
    "sample.describe()"
   ]
  },
  {
   "cell_type": "code",
   "execution_count": 26,
   "metadata": {},
   "outputs": [],
   "source": [
    "traindf.drop_duplicates(inplace=True)"
   ]
  },
  {
   "cell_type": "code",
   "execution_count": 27,
   "metadata": {},
   "outputs": [
    {
     "data": {
      "text/html": [
       "<div>\n",
       "<style scoped>\n",
       "    .dataframe tbody tr th:only-of-type {\n",
       "        vertical-align: middle;\n",
       "    }\n",
       "\n",
       "    .dataframe tbody tr th {\n",
       "        vertical-align: top;\n",
       "    }\n",
       "\n",
       "    .dataframe thead th {\n",
       "        text-align: right;\n",
       "    }\n",
       "</style>\n",
       "<table border=\"1\" class=\"dataframe\">\n",
       "  <thead>\n",
       "    <tr style=\"text-align: right;\">\n",
       "      <th></th>\n",
       "      <th>count</th>\n",
       "      <th>mean</th>\n",
       "      <th>std</th>\n",
       "      <th>min</th>\n",
       "      <th>25%</th>\n",
       "      <th>50%</th>\n",
       "      <th>75%</th>\n",
       "      <th>max</th>\n",
       "    </tr>\n",
       "  </thead>\n",
       "  <tbody>\n",
       "    <tr>\n",
       "      <td>index</td>\n",
       "      <td>2205.0</td>\n",
       "      <td>1102.000000</td>\n",
       "      <td>636.672993</td>\n",
       "      <td>0.0</td>\n",
       "      <td>551.0</td>\n",
       "      <td>1102.0</td>\n",
       "      <td>1653.0</td>\n",
       "      <td>2204.0</td>\n",
       "    </tr>\n",
       "    <tr>\n",
       "      <td>Age</td>\n",
       "      <td>2205.0</td>\n",
       "      <td>37.177778</td>\n",
       "      <td>9.182865</td>\n",
       "      <td>18.0</td>\n",
       "      <td>30.0</td>\n",
       "      <td>36.0</td>\n",
       "      <td>43.0</td>\n",
       "      <td>60.0</td>\n",
       "    </tr>\n",
       "    <tr>\n",
       "      <td>DistanceFromHome</td>\n",
       "      <td>2205.0</td>\n",
       "      <td>8.975510</td>\n",
       "      <td>8.071613</td>\n",
       "      <td>1.0</td>\n",
       "      <td>2.0</td>\n",
       "      <td>7.0</td>\n",
       "      <td>13.0</td>\n",
       "      <td>29.0</td>\n",
       "    </tr>\n",
       "    <tr>\n",
       "      <td>Education</td>\n",
       "      <td>2205.0</td>\n",
       "      <td>2.930159</td>\n",
       "      <td>1.001189</td>\n",
       "      <td>1.0</td>\n",
       "      <td>2.0</td>\n",
       "      <td>3.0</td>\n",
       "      <td>4.0</td>\n",
       "      <td>5.0</td>\n",
       "    </tr>\n",
       "    <tr>\n",
       "      <td>MonthlyIncome</td>\n",
       "      <td>2205.0</td>\n",
       "      <td>64906.653061</td>\n",
       "      <td>46427.509701</td>\n",
       "      <td>10090.0</td>\n",
       "      <td>29360.0</td>\n",
       "      <td>49600.0</td>\n",
       "      <td>83800.0</td>\n",
       "      <td>199990.0</td>\n",
       "    </tr>\n",
       "    <tr>\n",
       "      <td>NumCompaniesWorked</td>\n",
       "      <td>2197.0</td>\n",
       "      <td>2.741010</td>\n",
       "      <td>2.506606</td>\n",
       "      <td>0.0</td>\n",
       "      <td>1.0</td>\n",
       "      <td>2.0</td>\n",
       "      <td>4.0</td>\n",
       "      <td>9.0</td>\n",
       "    </tr>\n",
       "    <tr>\n",
       "      <td>PercentSalaryHike</td>\n",
       "      <td>2205.0</td>\n",
       "      <td>15.209524</td>\n",
       "      <td>3.680601</td>\n",
       "      <td>11.0</td>\n",
       "      <td>12.0</td>\n",
       "      <td>14.0</td>\n",
       "      <td>18.0</td>\n",
       "      <td>25.0</td>\n",
       "    </tr>\n",
       "    <tr>\n",
       "      <td>StandardHours</td>\n",
       "      <td>2205.0</td>\n",
       "      <td>8.000000</td>\n",
       "      <td>0.000000</td>\n",
       "      <td>8.0</td>\n",
       "      <td>8.0</td>\n",
       "      <td>8.0</td>\n",
       "      <td>8.0</td>\n",
       "      <td>8.0</td>\n",
       "    </tr>\n",
       "    <tr>\n",
       "      <td>StockOptionLevel</td>\n",
       "      <td>2205.0</td>\n",
       "      <td>0.765533</td>\n",
       "      <td>0.827658</td>\n",
       "      <td>0.0</td>\n",
       "      <td>0.0</td>\n",
       "      <td>1.0</td>\n",
       "      <td>1.0</td>\n",
       "      <td>3.0</td>\n",
       "    </tr>\n",
       "    <tr>\n",
       "      <td>TotalWorkingYears</td>\n",
       "      <td>2202.0</td>\n",
       "      <td>11.335604</td>\n",
       "      <td>7.667351</td>\n",
       "      <td>0.0</td>\n",
       "      <td>6.0</td>\n",
       "      <td>10.0</td>\n",
       "      <td>15.0</td>\n",
       "      <td>40.0</td>\n",
       "    </tr>\n",
       "    <tr>\n",
       "      <td>TrainingTimesLastYear</td>\n",
       "      <td>2205.0</td>\n",
       "      <td>2.800454</td>\n",
       "      <td>1.264157</td>\n",
       "      <td>0.0</td>\n",
       "      <td>2.0</td>\n",
       "      <td>3.0</td>\n",
       "      <td>3.0</td>\n",
       "      <td>6.0</td>\n",
       "    </tr>\n",
       "    <tr>\n",
       "      <td>YearsAtCompany</td>\n",
       "      <td>2205.0</td>\n",
       "      <td>6.938322</td>\n",
       "      <td>5.989465</td>\n",
       "      <td>0.0</td>\n",
       "      <td>3.0</td>\n",
       "      <td>5.0</td>\n",
       "      <td>9.0</td>\n",
       "      <td>40.0</td>\n",
       "    </tr>\n",
       "    <tr>\n",
       "      <td>YearsSinceLastPromotion</td>\n",
       "      <td>2205.0</td>\n",
       "      <td>2.150113</td>\n",
       "      <td>3.128474</td>\n",
       "      <td>0.0</td>\n",
       "      <td>0.0</td>\n",
       "      <td>1.0</td>\n",
       "      <td>3.0</td>\n",
       "      <td>15.0</td>\n",
       "    </tr>\n",
       "    <tr>\n",
       "      <td>YearsWithCurrManager</td>\n",
       "      <td>2205.0</td>\n",
       "      <td>4.089796</td>\n",
       "      <td>3.528097</td>\n",
       "      <td>0.0</td>\n",
       "      <td>2.0</td>\n",
       "      <td>3.0</td>\n",
       "      <td>7.0</td>\n",
       "      <td>17.0</td>\n",
       "    </tr>\n",
       "  </tbody>\n",
       "</table>\n",
       "</div>"
      ],
      "text/plain": [
       "                          count          mean           std      min      25%  \\\n",
       "index                    2205.0   1102.000000    636.672993      0.0    551.0   \n",
       "Age                      2205.0     37.177778      9.182865     18.0     30.0   \n",
       "DistanceFromHome         2205.0      8.975510      8.071613      1.0      2.0   \n",
       "Education                2205.0      2.930159      1.001189      1.0      2.0   \n",
       "MonthlyIncome            2205.0  64906.653061  46427.509701  10090.0  29360.0   \n",
       "NumCompaniesWorked       2197.0      2.741010      2.506606      0.0      1.0   \n",
       "PercentSalaryHike        2205.0     15.209524      3.680601     11.0     12.0   \n",
       "StandardHours            2205.0      8.000000      0.000000      8.0      8.0   \n",
       "StockOptionLevel         2205.0      0.765533      0.827658      0.0      0.0   \n",
       "TotalWorkingYears        2202.0     11.335604      7.667351      0.0      6.0   \n",
       "TrainingTimesLastYear    2205.0      2.800454      1.264157      0.0      2.0   \n",
       "YearsAtCompany           2205.0      6.938322      5.989465      0.0      3.0   \n",
       "YearsSinceLastPromotion  2205.0      2.150113      3.128474      0.0      0.0   \n",
       "YearsWithCurrManager     2205.0      4.089796      3.528097      0.0      2.0   \n",
       "\n",
       "                             50%      75%       max  \n",
       "index                     1102.0   1653.0    2204.0  \n",
       "Age                         36.0     43.0      60.0  \n",
       "DistanceFromHome             7.0     13.0      29.0  \n",
       "Education                    3.0      4.0       5.0  \n",
       "MonthlyIncome            49600.0  83800.0  199990.0  \n",
       "NumCompaniesWorked           2.0      4.0       9.0  \n",
       "PercentSalaryHike           14.0     18.0      25.0  \n",
       "StandardHours                8.0      8.0       8.0  \n",
       "StockOptionLevel             1.0      1.0       3.0  \n",
       "TotalWorkingYears           10.0     15.0      40.0  \n",
       "TrainingTimesLastYear        3.0      3.0       6.0  \n",
       "YearsAtCompany               5.0      9.0      40.0  \n",
       "YearsSinceLastPromotion      1.0      3.0      15.0  \n",
       "YearsWithCurrManager         3.0      7.0      17.0  "
      ]
     },
     "execution_count": 27,
     "metadata": {},
     "output_type": "execute_result"
    }
   ],
   "source": [
    "traindf.describe().T"
   ]
  },
  {
   "cell_type": "code",
   "execution_count": 62,
   "metadata": {},
   "outputs": [
    {
     "data": {
      "text/html": [
       "<div>\n",
       "<style scoped>\n",
       "    .dataframe tbody tr th:only-of-type {\n",
       "        vertical-align: middle;\n",
       "    }\n",
       "\n",
       "    .dataframe tbody tr th {\n",
       "        vertical-align: top;\n",
       "    }\n",
       "\n",
       "    .dataframe thead th {\n",
       "        text-align: right;\n",
       "    }\n",
       "</style>\n",
       "<table border=\"1\" class=\"dataframe\">\n",
       "  <thead>\n",
       "    <tr style=\"text-align: right;\">\n",
       "      <th></th>\n",
       "      <th>index</th>\n",
       "      <th>Attrition</th>\n",
       "    </tr>\n",
       "  </thead>\n",
       "  <tbody>\n",
       "    <tr>\n",
       "      <td>0</td>\n",
       "      <td>0</td>\n",
       "      <td>0.479141</td>\n",
       "    </tr>\n",
       "    <tr>\n",
       "      <td>1</td>\n",
       "      <td>1</td>\n",
       "      <td>0.059011</td>\n",
       "    </tr>\n",
       "    <tr>\n",
       "      <td>2</td>\n",
       "      <td>2</td>\n",
       "      <td>0.169789</td>\n",
       "    </tr>\n",
       "    <tr>\n",
       "      <td>3</td>\n",
       "      <td>3</td>\n",
       "      <td>0.094672</td>\n",
       "    </tr>\n",
       "    <tr>\n",
       "      <td>4</td>\n",
       "      <td>4</td>\n",
       "      <td>0.050951</td>\n",
       "    </tr>\n",
       "  </tbody>\n",
       "</table>\n",
       "</div>"
      ],
      "text/plain": [
       "   index  Attrition\n",
       "0      0   0.479141\n",
       "1      1   0.059011\n",
       "2      2   0.169789\n",
       "3      3   0.094672\n",
       "4      4   0.050951"
      ]
     },
     "execution_count": 62,
     "metadata": {},
     "output_type": "execute_result"
    }
   ],
   "source": [
    "sample.head()"
   ]
  },
  {
   "cell_type": "code",
   "execution_count": 39,
   "metadata": {},
   "outputs": [
    {
     "data": {
      "text/plain": [
       "Index(['Age', 'DistanceFromHome', 'Education', 'MonthlyIncome',\n",
       "       'NumCompaniesWorked', 'PercentSalaryHike', 'StockOptionLevel',\n",
       "       'TotalWorkingYears', 'TrainingTimesLastYear', 'YearsAtCompany',\n",
       "       'YearsSinceLastPromotion', 'YearsWithCurrManager', 'Attrition',\n",
       "       'BusinessTravel_Travel_Frequently', 'BusinessTravel_Travel_Rarely',\n",
       "       'Department_Research & Development', 'Department_Sales',\n",
       "       'EducationField_Life Sciences', 'EducationField_Marketing',\n",
       "       'EducationField_Medical', 'EducationField_Other',\n",
       "       'EducationField_Technical Degree', 'Gender_Male',\n",
       "       'JobRole_Human Resources', 'JobRole_Laboratory Technician',\n",
       "       'JobRole_Manager', 'JobRole_Manufacturing Director',\n",
       "       'JobRole_Research Director', 'JobRole_Research Scientist',\n",
       "       'JobRole_Sales Executive', 'JobRole_Sales Representative',\n",
       "       'MaritalStatus_Married', 'MaritalStatus_Single'],\n",
       "      dtype='object')"
      ]
     },
     "execution_count": 39,
     "metadata": {},
     "output_type": "execute_result"
    }
   ],
   "source": [
    "train_df.columns"
   ]
  },
  {
   "cell_type": "code",
   "execution_count": 55,
   "metadata": {},
   "outputs": [],
   "source": [
    "# Check Outliers\n",
    "from scipy import stats\n",
    "# sns.boxplot(data=train_df['MonthlyIncome'])\n",
    "train_data = train_df[(np.abs(stats.zscore(train_df)) < 2.5).all(axis=1)]"
   ]
  },
  {
   "cell_type": "code",
   "execution_count": 57,
   "metadata": {},
   "outputs": [],
   "source": [
    "# def MD_detectOutliers(dist, extreme=False, verbose=False):\n",
    "#     k = 3. if extreme else 2.\n",
    "#     threshold = np.mean(dist) * k\n",
    "#     outliers = []\n",
    "#     for i in range(len(dist)):\n",
    "#         if dist[i] >= threshold:\n",
    "#             outliers.append(i)\n",
    "#     return np.array(outliers)"
   ]
  },
  {
   "cell_type": "code",
   "execution_count": 66,
   "metadata": {},
   "outputs": [
    {
     "data": {
      "text/html": [
       "<div>\n",
       "<style scoped>\n",
       "    .dataframe tbody tr th:only-of-type {\n",
       "        vertical-align: middle;\n",
       "    }\n",
       "\n",
       "    .dataframe tbody tr th {\n",
       "        vertical-align: top;\n",
       "    }\n",
       "\n",
       "    .dataframe thead th {\n",
       "        text-align: right;\n",
       "    }\n",
       "</style>\n",
       "<table border=\"1\" class=\"dataframe\">\n",
       "  <thead>\n",
       "    <tr style=\"text-align: right;\">\n",
       "      <th></th>\n",
       "      <th>0</th>\n",
       "      <th>1</th>\n",
       "      <th>2</th>\n",
       "      <th>3</th>\n",
       "      <th>4</th>\n",
       "      <th>5</th>\n",
       "      <th>6</th>\n",
       "      <th>7</th>\n",
       "      <th>8</th>\n",
       "      <th>9</th>\n",
       "      <th>...</th>\n",
       "      <th>23</th>\n",
       "      <th>24</th>\n",
       "      <th>25</th>\n",
       "      <th>26</th>\n",
       "      <th>27</th>\n",
       "      <th>28</th>\n",
       "      <th>29</th>\n",
       "      <th>30</th>\n",
       "      <th>31</th>\n",
       "      <th>32</th>\n",
       "    </tr>\n",
       "  </thead>\n",
       "  <tbody>\n",
       "    <tr>\n",
       "      <td>0</td>\n",
       "      <td>0.366904</td>\n",
       "      <td>-0.911101</td>\n",
       "      <td>0.099732</td>\n",
       "      <td>-0.364813</td>\n",
       "      <td>0.142746</td>\n",
       "      <td>-0.057601</td>\n",
       "      <td>0.203289</td>\n",
       "      <td>0.479304</td>\n",
       "      <td>0.153667</td>\n",
       "      <td>-0.332107</td>\n",
       "      <td>...</td>\n",
       "      <td>-0.187647</td>\n",
       "      <td>-0.473624</td>\n",
       "      <td>-0.259383</td>\n",
       "      <td>-0.324443</td>\n",
       "      <td>4.636809</td>\n",
       "      <td>-0.515545</td>\n",
       "      <td>-0.537327</td>\n",
       "      <td>-0.245145</td>\n",
       "      <td>-0.901844</td>\n",
       "      <td>1.440595</td>\n",
       "    </tr>\n",
       "    <tr>\n",
       "      <td>1</td>\n",
       "      <td>-0.624680</td>\n",
       "      <td>2.285949</td>\n",
       "      <td>1.055857</td>\n",
       "      <td>1.305381</td>\n",
       "      <td>-0.662252</td>\n",
       "      <td>-1.157258</td>\n",
       "      <td>-0.940210</td>\n",
       "      <td>-0.154841</td>\n",
       "      <td>0.915098</td>\n",
       "      <td>0.466994</td>\n",
       "      <td>...</td>\n",
       "      <td>-0.187647</td>\n",
       "      <td>-0.473624</td>\n",
       "      <td>-0.259383</td>\n",
       "      <td>-0.324443</td>\n",
       "      <td>-0.215666</td>\n",
       "      <td>-0.515545</td>\n",
       "      <td>1.861065</td>\n",
       "      <td>-0.245145</td>\n",
       "      <td>1.108839</td>\n",
       "      <td>-0.694158</td>\n",
       "    </tr>\n",
       "    <tr>\n",
       "      <td>2</td>\n",
       "      <td>-0.183976</td>\n",
       "      <td>-0.788137</td>\n",
       "      <td>0.099732</td>\n",
       "      <td>-0.892475</td>\n",
       "      <td>-0.662252</td>\n",
       "      <td>-1.157258</td>\n",
       "      <td>0.203289</td>\n",
       "      <td>-1.169472</td>\n",
       "      <td>-0.607763</td>\n",
       "      <td>-0.811568</td>\n",
       "      <td>...</td>\n",
       "      <td>-0.187647</td>\n",
       "      <td>2.111379</td>\n",
       "      <td>-0.259383</td>\n",
       "      <td>-0.324443</td>\n",
       "      <td>-0.215666</td>\n",
       "      <td>-0.515545</td>\n",
       "      <td>-0.537327</td>\n",
       "      <td>-0.245145</td>\n",
       "      <td>1.108839</td>\n",
       "      <td>-0.694158</td>\n",
       "    </tr>\n",
       "    <tr>\n",
       "      <td>3</td>\n",
       "      <td>-0.404328</td>\n",
       "      <td>-0.911101</td>\n",
       "      <td>-0.856393</td>\n",
       "      <td>-0.854320</td>\n",
       "      <td>-1.064751</td>\n",
       "      <td>0.767142</td>\n",
       "      <td>2.490285</td>\n",
       "      <td>-0.915814</td>\n",
       "      <td>0.915098</td>\n",
       "      <td>-0.651748</td>\n",
       "      <td>...</td>\n",
       "      <td>-0.187647</td>\n",
       "      <td>-0.473624</td>\n",
       "      <td>-0.259383</td>\n",
       "      <td>-0.324443</td>\n",
       "      <td>-0.215666</td>\n",
       "      <td>-0.515545</td>\n",
       "      <td>1.861065</td>\n",
       "      <td>-0.245145</td>\n",
       "      <td>-0.901844</td>\n",
       "      <td>1.440595</td>\n",
       "    </tr>\n",
       "    <tr>\n",
       "      <td>4</td>\n",
       "      <td>-0.514504</td>\n",
       "      <td>-0.911101</td>\n",
       "      <td>0.099732</td>\n",
       "      <td>-0.161044</td>\n",
       "      <td>-0.662252</td>\n",
       "      <td>-0.607430</td>\n",
       "      <td>-0.940210</td>\n",
       "      <td>-0.408498</td>\n",
       "      <td>-2.130623</td>\n",
       "      <td>0.147354</td>\n",
       "      <td>...</td>\n",
       "      <td>-0.187647</td>\n",
       "      <td>-0.473624</td>\n",
       "      <td>-0.259383</td>\n",
       "      <td>-0.324443</td>\n",
       "      <td>-0.215666</td>\n",
       "      <td>1.939696</td>\n",
       "      <td>-0.537327</td>\n",
       "      <td>-0.245145</td>\n",
       "      <td>1.108839</td>\n",
       "      <td>-0.694158</td>\n",
       "    </tr>\n",
       "  </tbody>\n",
       "</table>\n",
       "<p>5 rows × 33 columns</p>\n",
       "</div>"
      ],
      "text/plain": [
       "         0         1         2         3         4         5         6   \\\n",
       "0  0.366904 -0.911101  0.099732 -0.364813  0.142746 -0.057601  0.203289   \n",
       "1 -0.624680  2.285949  1.055857  1.305381 -0.662252 -1.157258 -0.940210   \n",
       "2 -0.183976 -0.788137  0.099732 -0.892475 -0.662252 -1.157258  0.203289   \n",
       "3 -0.404328 -0.911101 -0.856393 -0.854320 -1.064751  0.767142  2.490285   \n",
       "4 -0.514504 -0.911101  0.099732 -0.161044 -0.662252 -0.607430 -0.940210   \n",
       "\n",
       "         7         8         9   ...        23        24        25        26  \\\n",
       "0  0.479304  0.153667 -0.332107  ... -0.187647 -0.473624 -0.259383 -0.324443   \n",
       "1 -0.154841  0.915098  0.466994  ... -0.187647 -0.473624 -0.259383 -0.324443   \n",
       "2 -1.169472 -0.607763 -0.811568  ... -0.187647  2.111379 -0.259383 -0.324443   \n",
       "3 -0.915814  0.915098 -0.651748  ... -0.187647 -0.473624 -0.259383 -0.324443   \n",
       "4 -0.408498 -2.130623  0.147354  ... -0.187647 -0.473624 -0.259383 -0.324443   \n",
       "\n",
       "         27        28        29        30        31        32  \n",
       "0  4.636809 -0.515545 -0.537327 -0.245145 -0.901844  1.440595  \n",
       "1 -0.215666 -0.515545  1.861065 -0.245145  1.108839 -0.694158  \n",
       "2 -0.215666 -0.515545 -0.537327 -0.245145  1.108839 -0.694158  \n",
       "3 -0.215666 -0.515545  1.861065 -0.245145 -0.901844  1.440595  \n",
       "4 -0.215666  1.939696 -0.537327 -0.245145  1.108839 -0.694158  \n",
       "\n",
       "[5 rows x 33 columns]"
      ]
     },
     "execution_count": 66,
     "metadata": {},
     "output_type": "execute_result"
    }
   ],
   "source": [
    "# Preprocessing: StandardScaler\n",
    "ss = StandardScaler()\n",
    "\n",
    "scaled = pd.DataFrame(ss.fit_transform(train_df))\n",
    "scaled.set_index(train_df.index, inplace=True)\n",
    "scaled.head()"
   ]
  },
  {
   "cell_type": "code",
   "execution_count": 67,
   "metadata": {},
   "outputs": [
    {
     "data": {
      "text/plain": [
       "array([False, False,  True, ..., False,  True,  True])"
      ]
     },
     "execution_count": 67,
     "metadata": {},
     "output_type": "execute_result"
    }
   ],
   "source": [
    "scaled.columns = train_df.columns"
   ]
  },
  {
   "cell_type": "code",
   "execution_count": 75,
   "metadata": {},
   "outputs": [],
   "source": [
    "# Remove Outliers\n",
    "new_train = train_df[(np.abs(stats.zscore(train_df)) < 3).all(axis=1)]"
   ]
  },
  {
   "cell_type": "code",
   "execution_count": 76,
   "metadata": {},
   "outputs": [
    {
     "data": {
      "text/plain": [
       "(1276, 33)"
      ]
     },
     "execution_count": 76,
     "metadata": {},
     "output_type": "execute_result"
    }
   ],
   "source": [
    "new_train.shape"
   ]
  },
  {
   "cell_type": "code",
   "execution_count": 81,
   "metadata": {},
   "outputs": [
    {
     "data": {
      "text/plain": [
       "<matplotlib.axes._subplots.AxesSubplot at 0x1a1eca08d0>"
      ]
     },
     "execution_count": 81,
     "metadata": {},
     "output_type": "execute_result"
    },
    {
     "data": {
      "image/png": "[encoded data removed]",
      "text/plain": [
       "<Figure size 432x288 with 1 Axes>"
      ]
     },
     "metadata": {
      "needs_background": "light"
     },
     "output_type": "display_data"
    }
   ],
   "source": [
    "sns.boxplot(data=new_train, palette='Set2')"
   ]
  },
  {
   "cell_type": "code",
   "execution_count": 82,
   "metadata": {},
   "outputs": [],
   "source": [
    "X = new_train.drop('Attrition', axis=1)\n",
    "y = new_train['Attrition']"
   ]
  },
  {
   "cell_type": "code",
   "execution_count": 83,
   "metadata": {},
   "outputs": [],
   "source": [
    "# Train, Test Split with stratify=y\n",
    "X_train, X_test, y_train, y_test = train_test_split(X, y, test_size = .3, random_state=1, stratify=y)"
   ]
  },
  {
   "cell_type": "code",
   "execution_count": 84,
   "metadata": {},
   "outputs": [
    {
     "data": {
      "text/plain": [
       "(893, 32)"
      ]
     },
     "execution_count": 84,
     "metadata": {},
     "output_type": "execute_result"
    }
   ],
   "source": [
    "X_train.shape"
   ]
  },
  {
   "cell_type": "markdown",
   "metadata": {},
   "source": [
    "## Find MVP"
   ]
  },
  {
   "cell_type": "markdown",
   "metadata": {},
   "source": [
    "### Decision Tree"
   ]
  },
  {
   "cell_type": "code",
   "execution_count": 136,
   "metadata": {},
   "outputs": [
    {
     "data": {
      "text/plain": [
       "1.0"
      ]
     },
     "execution_count": 136,
     "metadata": {},
     "output_type": "execute_result"
    }
   ],
   "source": [
    "# Vanilla  \n",
    "from sklearn.tree import DecisionTreeClassifier\n",
    "dtc = DecisionTreeClassifier()\n",
    "dtc.fit(X_train, y_train)\n",
    "dt_acc = round(dtc.score(X_train, y_train),3)\n",
    "dt_acc"
   ]
  },
  {
   "cell_type": "markdown",
   "metadata": {},
   "source": [
    "Decision Tree on train data"
   ]
  },
  {
   "cell_type": "code",
   "execution_count": 130,
   "metadata": {},
   "outputs": [],
   "source": [
    "from sklearn.metrics import roc_curve, auc\n",
    "\n",
    "from sklearn.model_selection import StratifiedKFold\n",
    "skf = StratifiedKFold(n_splits=4, random_state=42)\n",
    "for train_index, test_index in skf.split(X_train, y_train):\n",
    "    X_train_fold, y_train_fold  = X_train.iloc[train_index], y_train.iloc[train_index]\n",
    "    dtc = DecisionTreeClassifier()\n",
    "    dtc.fit(X_train_fold, y_train_fold)\n",
    "    X_test_fold, y_test_fold = X_train.iloc[test_index], y_train.iloc[test_index]\n",
    "    dtc_pred = dtc.predict(X_train_fold)\n",
    "    dt_accur = dtc.score(X_test_fold, y_test_fold)"
   ]
  },
  {
   "cell_type": "code",
   "execution_count": 115,
   "metadata": {},
   "outputs": [
    {
     "ename": "NameError",
     "evalue": "name 'y_test_fold' is not defined",
     "output_type": "error",
     "traceback": [
      "\u001b[0;31m---------------------------------------------------------------------------\u001b[0m",
      "\u001b[0;31mNameError\u001b[0m                                 Traceback (most recent call last)",
      "\u001b[0;32m<ipython-input-115-fa102f07ea44>\u001b[0m in \u001b[0;36m<module>\u001b[0;34m\u001b[0m\n\u001b[0;32m----> 1\u001b[0;31m \u001b[0mdt_rec\u001b[0m \u001b[0;34m=\u001b[0m \u001b[0mrecall_score\u001b[0m\u001b[0;34m(\u001b[0m\u001b[0my_test_fold\u001b[0m\u001b[0;34m,\u001b[0m \u001b[0mdtc_pred\u001b[0m\u001b[0;34m)\u001b[0m\u001b[0;34m\u001b[0m\u001b[0;34m\u001b[0m\u001b[0m\n\u001b[0m",
      "\u001b[0;31mNameError\u001b[0m: name 'y_test_fold' is not defined"
     ]
    }
   ],
   "source": [
    "# print(recall_score(y_train_fold, dtc_pred)"
   ]
  },
  {
   "cell_type": "code",
   "execution_count": null,
   "metadata": {},
   "outputs": [],
   "source": [
    "# Decision Tree visual\n"
   ]
  },
  {
   "cell_type": "markdown",
   "metadata": {},
   "source": [
    "Overfitting? Let's try pruning"
   ]
  },
  {
   "cell_type": "code",
   "execution_count": 137,
   "metadata": {},
   "outputs": [
    {
     "data": {
      "text/plain": [
       "0.8292332268370607"
      ]
     },
     "execution_count": 137,
     "metadata": {},
     "output_type": "execute_result"
    }
   ],
   "source": [
    "# DT Pruning\n",
    "from sklearn.metrics import roc_curve, auc\n",
    "\n",
    "# Train a classifier with optimal values identified above\n",
    "dt = DecisionTreeClassifier(criterion='entropy',\n",
    "                           max_features=12,\n",
    "                           max_depth=4,\n",
    "                           min_samples_split=0.7,\n",
    "                           min_samples_leaf=0.25, \n",
    "                           random_state=1)\n",
    "dt.fit(X_train, y_train)\n",
    "y_hat_train = dtc.predict(X_test)\n",
    "false_positive_rate, true_positive_rate, thresholds = roc_curve(y_test, y_hat_train)\n",
    "roc_auc = auc(false_positive_rate, true_positive_rate)\n",
    "roc_auc"
   ]
  },
  {
   "cell_type": "markdown",
   "metadata": {},
   "source": [
    "### Random Forest"
   ]
  },
  {
   "cell_type": "code",
   "execution_count": 138,
   "metadata": {},
   "outputs": [
    {
     "data": {
      "text/plain": [
       "0.985"
      ]
     },
     "execution_count": 138,
     "metadata": {},
     "output_type": "execute_result"
    }
   ],
   "source": [
    "# Vanilla\n",
    "rf = RandomForestClassifier()\n",
    "\n",
    "rf.fit(X_train,y_train)\n",
    "rf_acc = round(rf.score(X_train,y_train),3)\n",
    "rf_acc\n",
    "# Overfitting - add kFold"
   ]
  },
  {
   "cell_type": "code",
   "execution_count": 129,
   "metadata": {},
   "outputs": [],
   "source": [
    "# kFold with RF\n",
    "from sklearn.model_selection import StratifiedKFold\n",
    "\n",
    "rfk = StratifiedKFold(n_splits=4, random_state=42)\n",
    "for train_index, test_index in rfk.split(X_train, y_train):\n",
    "    X_train_fold, y_train_fold  = X_train.iloc[train_index], y_train.iloc[train_index]\n",
    "    rf = RandomForestClassifier()\n",
    "    rf.fit(X_train_fold, y_train_fold)\n",
    "    X_test_fold, y_test_fold = X_train.iloc[test_index], y_train.iloc[test_index]\n",
    "    rf_pred = rf.predict(X_train_fold)\n",
    "    rf_accur = rf.score(X_test_fold, y_test_fold)"
   ]
  },
  {
   "cell_type": "markdown",
   "metadata": {},
   "source": [
    "### Logistic Regression"
   ]
  },
  {
   "cell_type": "code",
   "execution_count": 139,
   "metadata": {},
   "outputs": [
    {
     "data": {
      "text/plain": [
       "0.819"
      ]
     },
     "execution_count": 139,
     "metadata": {},
     "output_type": "execute_result"
    }
   ],
   "source": [
    "# Vanilla \n",
    "log = LogisticRegression()\n",
    "\n",
    "log.fit(X_train,y_train)\n",
    "# Y_pred = logreg.predict(X_test)\n",
    "lr_acc = round(log.score(X_train,y_train),3)\n",
    "lr_acc\n",
    "# Overfitting - add kFold"
   ]
  },
  {
   "cell_type": "code",
   "execution_count": 125,
   "metadata": {},
   "outputs": [
    {
     "name": "stdout",
     "output_type": "stream",
     "text": [
      "0.8169642857142857\n",
      "0.8169642857142857\n",
      "0.8161434977578476\n",
      "0.8198198198198198\n"
     ]
    }
   ],
   "source": [
    "from sklearn.model_selection import StratifiedKFold\n",
    "\n",
    "lrk = StratifiedKFold(n_splits=4, random_state=42)\n",
    "for train_index, test_index in lrk.split(X_train, y_train):\n",
    "    X_train_fold, y_train_fold  = X_train.iloc[train_index], y_train.iloc[train_index]\n",
    "    lr = LogisticRegression()\n",
    "    lr.fit(X_train_fold, y_train_fold)\n",
    "    X_test_fold, y_test_fold = X_train.iloc[test_index], y_train.iloc[test_index]\n",
    "    lr_pred = lr.predict(X_train_fold)\n",
    "    print(lr.score(X_test_fold, y_test_fold))"
   ]
  },
  {
   "cell_type": "markdown",
   "metadata": {},
   "source": [
    "### SVM"
   ]
  },
  {
   "cell_type": "code",
   "execution_count": 140,
   "metadata": {},
   "outputs": [
    {
     "data": {
      "text/plain": [
       "1.0"
      ]
     },
     "execution_count": 140,
     "metadata": {},
     "output_type": "execute_result"
    }
   ],
   "source": [
    "from sklearn.svm import SVC, LinearSVC\n",
    "sv = SVC()\n",
    "\n",
    "sv.fit(X_train,y_train)\n",
    "sv_acc = round(sv.score(X_train,y_train),3)\n",
    "sv_acc\n",
    "# Overfitting - add kFold"
   ]
  },
  {
   "cell_type": "code",
   "execution_count": 128,
   "metadata": {},
   "outputs": [],
   "source": [
    "from sklearn.model_selection import StratifiedKFold\n",
    "\n",
    "svk = StratifiedKFold(n_splits=4, random_state=42)\n",
    "for train_index, test_index in svk.split(X_train, y_train):\n",
    "    X_train_fold, y_train_fold  = X_train.iloc[train_index], y_train.iloc[train_index]\n",
    "    sv = SVC()\n",
    "    sv.fit(X_train_fold, y_train_fold)\n",
    "    X_test_fold, y_test_fold = X_train.iloc[test_index], y_train.iloc[test_index]\n",
    "    sv_pred = sv.predict(X_train_fold)\n",
    "    sv_accur = sv.score(X_test_fold, y_test_fold)"
   ]
  },
  {
   "cell_type": "markdown",
   "metadata": {},
   "source": [
    "### Naive Bayes"
   ]
  },
  {
   "cell_type": "code",
   "execution_count": 141,
   "metadata": {},
   "outputs": [
    {
     "data": {
      "text/plain": [
       "0.768"
      ]
     },
     "execution_count": 141,
     "metadata": {},
     "output_type": "execute_result"
    }
   ],
   "source": [
    "# Gaussian Naive Bayes\n",
    "nb = GaussianNB()\n",
    "\n",
    "nb.fit(X_train,y_train)\n",
    "nb_acc = round(nb.score(X_train,y_train),3)\n",
    "nb_acc\n",
    "# Decent score"
   ]
  },
  {
   "cell_type": "code",
   "execution_count": 143,
   "metadata": {},
   "outputs": [],
   "source": [
    "from sklearn.model_selection import StratifiedKFold\n",
    "\n",
    "nvk = StratifiedKFold(n_splits=4, random_state=42)\n",
    "for train_index, test_index in nvk.split(X_train, y_train):\n",
    "    X_train_fold, y_train_fold  = X_train.iloc[train_index], y_train.iloc[train_index]\n",
    "    nv = GaussianNB()\n",
    "    nv.fit(X_train_fold, y_train_fold)\n",
    "    X_test_fold, y_test_fold = X_train.iloc[test_index], y_train.iloc[test_index]\n",
    "    nv_pred = nv.predict(X_train_fold)\n",
    "    nb_accur = nv.score(X_test_fold, y_test_fold)"
   ]
  },
  {
   "cell_type": "markdown",
   "metadata": {},
   "source": [
    "### XGBoost"
   ]
  },
  {
   "cell_type": "code",
   "execution_count": 142,
   "metadata": {},
   "outputs": [
    {
     "data": {
      "text/plain": [
       "0.841"
      ]
     },
     "execution_count": 142,
     "metadata": {},
     "output_type": "execute_result"
    }
   ],
   "source": [
    "xg = xgb.XGBClassifier()\n",
    "\n",
    "xg.fit(X_train,y_train)\n",
    "xg_acc = round(xg.score(X_test,y_test),3)\n",
    "xg_acc"
   ]
  },
  {
   "cell_type": "code",
   "execution_count": null,
   "metadata": {},
   "outputs": [],
   "source": []
  },
  {
   "cell_type": "code",
   "execution_count": 78,
   "metadata": {},
   "outputs": [
    {
     "data": {
      "text/plain": [
       "<seaborn.axisgrid.FacetGrid at 0x1a1ce28a90>"
      ]
     },
     "execution_count": 78,
     "metadata": {},
     "output_type": "execute_result"
    },
    {
     "data": {
      "image/png": "[encoded data removed]",
      "text/plain": [
       "<Figure size 432x216 with 2 Axes>"
      ]
     },
     "metadata": {},
     "output_type": "display_data"
    }
   ],
   "source": [
    "sns.set(context='notebook',style='darkgrid')\n",
    "sns.set_palette('BuGn_r')\n",
    "g = sns.FacetGrid(traindf, col='Attrition')\n",
    "g.map(plt.hist, 'MonthlyIncome', bins=20)"
   ]
  },
  {
   "cell_type": "code",
   "execution_count": 24,
   "metadata": {},
   "outputs": [
    {
     "data": {
      "text/plain": [
       "<seaborn.axisgrid.FacetGrid at 0x1a1a7f90b8>"
      ]
     },
     "execution_count": 24,
     "metadata": {},
     "output_type": "execute_result"
    },
    {
     "data": {
      "image/png": "[encoded data removed]",
      "text/plain": [
       "<Figure size 432x216 with 2 Axes>"
      ]
     },
     "metadata": {},
     "output_type": "display_data"
    }
   ],
   "source": [
    "sns.set(context='notebook',style='darkgrid')\n",
    "sns.set_palette('husl')\n",
    "g = sns.FacetGrid(traindf, col='Attrition')\n",
    "g.map(plt.hist, 'Age', bins=20)"
   ]
  },
  {
   "cell_type": "code",
   "execution_count": 81,
   "metadata": {},
   "outputs": [
    {
     "data": {
      "image/png": "[encoded data removed]",
      "text/plain": [
       "<Figure size 432x288 with 1 Axes>"
      ]
     },
     "metadata": {},
     "output_type": "display_data"
    }
   ],
   "source": [
    "traindf.Attrition.value_counts().plot(kind='bar')\n",
    "sns.set_palette('deep')\n",
    "plt.title('Non-Quitters vs Quitters')\n",
    "plt.ylabel('# of Employees')\n",
    "plt.show()"
   ]
  },
  {
   "cell_type": "code",
   "execution_count": 30,
   "metadata": {},
   "outputs": [],
   "source": [
    "# Target variable is Imbalanced\n",
    "# SMOTE"
   ]
  },
  {
   "cell_type": "code",
   "execution_count": 16,
   "metadata": {},
   "outputs": [],
   "source": [
    "# X_train.drop(['Gender'], axis=1, inplace=True)"
   ]
  },
  {
   "cell_type": "code",
   "execution_count": 90,
   "metadata": {},
   "outputs": [
    {
     "data": {
      "text/plain": [
       "(2205, 33)"
      ]
     },
     "execution_count": 90,
     "metadata": {},
     "output_type": "execute_result"
    }
   ],
   "source": [
    ".shape"
   ]
  },
  {
   "cell_type": "code",
   "execution_count": 88,
   "metadata": {},
   "outputs": [
    {
     "data": {
      "text/plain": [
       "Index(['index', 'Age', 'BusinessTravel', 'Department', 'DistanceFromHome',\n",
       "       'Education', 'EducationField', 'Gender', 'JobRole', 'MaritalStatus',\n",
       "       'MonthlyIncome', 'NumCompaniesWorked', 'PercentSalaryHike',\n",
       "       'StandardHours', 'StockOptionLevel', 'TotalWorkingYears',\n",
       "       'TrainingTimesLastYear', 'YearsAtCompany', 'YearsSinceLastPromotion',\n",
       "       'YearsWithCurrManager'],\n",
       "      dtype='object')"
      ]
     },
     "execution_count": 88,
     "metadata": {},
     "output_type": "execute_result"
    }
   ],
   "source": [
    "# testdf.drop(['BusinessTravel','Department','EducationField','Gender','JobRole','MaritalStatus'], axis=1, inplace=True)\n",
    "testdf.columns"
   ]
  },
  {
   "cell_type": "code",
   "execution_count": 86,
   "metadata": {},
   "outputs": [
    {
     "ename": "TypeError",
     "evalue": "'<' not supported between instances of 'str' and 'int'",
     "output_type": "error",
     "traceback": [
      "\u001b[0;31m---------------------------------------------------------------------------\u001b[0m",
      "\u001b[0;31mTypeError\u001b[0m                                 Traceback (most recent call last)",
      "\u001b[0;32m<ipython-input-86-a4f65ebfb51c>\u001b[0m in \u001b[0;36m<module>\u001b[0;34m\u001b[0m\n\u001b[1;32m      1\u001b[0m \u001b[0;31m# checking accuracy\u001b[0m\u001b[0;34m\u001b[0m\u001b[0;34m\u001b[0m\u001b[0;34m\u001b[0m\u001b[0m\n\u001b[0;32m----> 2\u001b[0;31m \u001b[0mprint\u001b[0m\u001b[0;34m(\u001b[0m\u001b[0;34m'Test Accuracy score: '\u001b[0m\u001b[0;34m,\u001b[0m \u001b[0maccuracy_score\u001b[0m\u001b[0;34m(\u001b[0m\u001b[0mtestdf\u001b[0m\u001b[0;34m,\u001b[0m \u001b[0mdummy_pred\u001b[0m\u001b[0;34m)\u001b[0m\u001b[0;34m)\u001b[0m\u001b[0;34m\u001b[0m\u001b[0;34m\u001b[0m\u001b[0m\n\u001b[0m\u001b[1;32m      3\u001b[0m \u001b[0;31m# checking accuracy\u001b[0m\u001b[0;34m\u001b[0m\u001b[0;34m\u001b[0m\u001b[0;34m\u001b[0m\u001b[0m\n\u001b[1;32m      4\u001b[0m \u001b[0mprint\u001b[0m\u001b[0;34m(\u001b[0m\u001b[0;34m'Test F1 score: '\u001b[0m\u001b[0;34m,\u001b[0m \u001b[0mf1_score\u001b[0m\u001b[0;34m(\u001b[0m\u001b[0mtestdf\u001b[0m\u001b[0;34m,\u001b[0m \u001b[0mdummy_pred\u001b[0m\u001b[0;34m)\u001b[0m\u001b[0;34m)\u001b[0m\u001b[0;34m\u001b[0m\u001b[0;34m\u001b[0m\u001b[0m\n\u001b[1;32m      5\u001b[0m \u001b[0;34m\u001b[0m\u001b[0m\n",
      "\u001b[0;32m~/anaconda3/envs/learn-env/lib/python3.6/site-packages/sklearn/metrics/classification.py\u001b[0m in \u001b[0;36maccuracy_score\u001b[0;34m(y_true, y_pred, normalize, sample_weight)\u001b[0m\n\u001b[1;32m    174\u001b[0m \u001b[0;34m\u001b[0m\u001b[0m\n\u001b[1;32m    175\u001b[0m     \u001b[0;31m# Compute accuracy for each possible representation\u001b[0m\u001b[0;34m\u001b[0m\u001b[0;34m\u001b[0m\u001b[0;34m\u001b[0m\u001b[0m\n\u001b[0;32m--> 176\u001b[0;31m     \u001b[0my_type\u001b[0m\u001b[0;34m,\u001b[0m \u001b[0my_true\u001b[0m\u001b[0;34m,\u001b[0m \u001b[0my_pred\u001b[0m \u001b[0;34m=\u001b[0m \u001b[0m_check_targets\u001b[0m\u001b[0;34m(\u001b[0m\u001b[0my_true\u001b[0m\u001b[0;34m,\u001b[0m \u001b[0my_pred\u001b[0m\u001b[0;34m)\u001b[0m\u001b[0;34m\u001b[0m\u001b[0;34m\u001b[0m\u001b[0m\n\u001b[0m\u001b[1;32m    177\u001b[0m     \u001b[0mcheck_consistent_length\u001b[0m\u001b[0;34m(\u001b[0m\u001b[0my_true\u001b[0m\u001b[0;34m,\u001b[0m \u001b[0my_pred\u001b[0m\u001b[0;34m,\u001b[0m \u001b[0msample_weight\u001b[0m\u001b[0;34m)\u001b[0m\u001b[0;34m\u001b[0m\u001b[0;34m\u001b[0m\u001b[0m\n\u001b[1;32m    178\u001b[0m     \u001b[0;32mif\u001b[0m \u001b[0my_type\u001b[0m\u001b[0;34m.\u001b[0m\u001b[0mstartswith\u001b[0m\u001b[0;34m(\u001b[0m\u001b[0;34m'multilabel'\u001b[0m\u001b[0;34m)\u001b[0m\u001b[0;34m:\u001b[0m\u001b[0;34m\u001b[0m\u001b[0;34m\u001b[0m\u001b[0m\n",
      "\u001b[0;32m~/anaconda3/envs/learn-env/lib/python3.6/site-packages/sklearn/metrics/classification.py\u001b[0m in \u001b[0;36m_check_targets\u001b[0;34m(y_true, y_pred)\u001b[0m\n\u001b[1;32m     70\u001b[0m     \"\"\"\n\u001b[1;32m     71\u001b[0m     \u001b[0mcheck_consistent_length\u001b[0m\u001b[0;34m(\u001b[0m\u001b[0my_true\u001b[0m\u001b[0;34m,\u001b[0m \u001b[0my_pred\u001b[0m\u001b[0;34m)\u001b[0m\u001b[0;34m\u001b[0m\u001b[0;34m\u001b[0m\u001b[0m\n\u001b[0;32m---> 72\u001b[0;31m     \u001b[0mtype_true\u001b[0m \u001b[0;34m=\u001b[0m \u001b[0mtype_of_target\u001b[0m\u001b[0;34m(\u001b[0m\u001b[0my_true\u001b[0m\u001b[0;34m)\u001b[0m\u001b[0;34m\u001b[0m\u001b[0;34m\u001b[0m\u001b[0m\n\u001b[0m\u001b[1;32m     73\u001b[0m     \u001b[0mtype_pred\u001b[0m \u001b[0;34m=\u001b[0m \u001b[0mtype_of_target\u001b[0m\u001b[0;34m(\u001b[0m\u001b[0my_pred\u001b[0m\u001b[0;34m)\u001b[0m\u001b[0;34m\u001b[0m\u001b[0;34m\u001b[0m\u001b[0m\n\u001b[1;32m     74\u001b[0m \u001b[0;34m\u001b[0m\u001b[0m\n",
      "\u001b[0;32m~/anaconda3/envs/learn-env/lib/python3.6/site-packages/sklearn/utils/multiclass.py\u001b[0m in \u001b[0;36mtype_of_target\u001b[0;34m(y)\u001b[0m\n\u001b[1;32m    245\u001b[0m         \u001b[0;32mraise\u001b[0m \u001b[0mValueError\u001b[0m\u001b[0;34m(\u001b[0m\u001b[0;34m\"y cannot be class 'SparseSeries'.\"\u001b[0m\u001b[0;34m)\u001b[0m\u001b[0;34m\u001b[0m\u001b[0;34m\u001b[0m\u001b[0m\n\u001b[1;32m    246\u001b[0m \u001b[0;34m\u001b[0m\u001b[0m\n\u001b[0;32m--> 247\u001b[0;31m     \u001b[0;32mif\u001b[0m \u001b[0mis_multilabel\u001b[0m\u001b[0;34m(\u001b[0m\u001b[0my\u001b[0m\u001b[0;34m)\u001b[0m\u001b[0;34m:\u001b[0m\u001b[0;34m\u001b[0m\u001b[0;34m\u001b[0m\u001b[0m\n\u001b[0m\u001b[1;32m    248\u001b[0m         \u001b[0;32mreturn\u001b[0m \u001b[0;34m'multilabel-indicator'\u001b[0m\u001b[0;34m\u001b[0m\u001b[0;34m\u001b[0m\u001b[0m\n\u001b[1;32m    249\u001b[0m \u001b[0;34m\u001b[0m\u001b[0m\n",
      "\u001b[0;32m~/anaconda3/envs/learn-env/lib/python3.6/site-packages/sklearn/utils/multiclass.py\u001b[0m in \u001b[0;36mis_multilabel\u001b[0;34m(y)\u001b[0m\n\u001b[1;32m    147\u001b[0m                  _is_integral_float(np.unique(y.data))))\n\u001b[1;32m    148\u001b[0m     \u001b[0;32melse\u001b[0m\u001b[0;34m:\u001b[0m\u001b[0;34m\u001b[0m\u001b[0;34m\u001b[0m\u001b[0m\n\u001b[0;32m--> 149\u001b[0;31m         \u001b[0mlabels\u001b[0m \u001b[0;34m=\u001b[0m \u001b[0mnp\u001b[0m\u001b[0;34m.\u001b[0m\u001b[0munique\u001b[0m\u001b[0;34m(\u001b[0m\u001b[0my\u001b[0m\u001b[0;34m)\u001b[0m\u001b[0;34m\u001b[0m\u001b[0;34m\u001b[0m\u001b[0m\n\u001b[0m\u001b[1;32m    150\u001b[0m \u001b[0;34m\u001b[0m\u001b[0m\n\u001b[1;32m    151\u001b[0m         return len(labels) < 3 and (y.dtype.kind in 'biu' or  # bool, int, uint\n",
      "\u001b[0;32m~/anaconda3/envs/learn-env/lib/python3.6/site-packages/numpy/lib/arraysetops.py\u001b[0m in \u001b[0;36munique\u001b[0;34m(ar, return_index, return_inverse, return_counts, axis)\u001b[0m\n\u001b[1;32m    262\u001b[0m     \u001b[0mar\u001b[0m \u001b[0;34m=\u001b[0m \u001b[0mnp\u001b[0m\u001b[0;34m.\u001b[0m\u001b[0masanyarray\u001b[0m\u001b[0;34m(\u001b[0m\u001b[0mar\u001b[0m\u001b[0;34m)\u001b[0m\u001b[0;34m\u001b[0m\u001b[0;34m\u001b[0m\u001b[0m\n\u001b[1;32m    263\u001b[0m     \u001b[0;32mif\u001b[0m \u001b[0maxis\u001b[0m \u001b[0;32mis\u001b[0m \u001b[0;32mNone\u001b[0m\u001b[0;34m:\u001b[0m\u001b[0;34m\u001b[0m\u001b[0;34m\u001b[0m\u001b[0m\n\u001b[0;32m--> 264\u001b[0;31m         \u001b[0mret\u001b[0m \u001b[0;34m=\u001b[0m \u001b[0m_unique1d\u001b[0m\u001b[0;34m(\u001b[0m\u001b[0mar\u001b[0m\u001b[0;34m,\u001b[0m \u001b[0mreturn_index\u001b[0m\u001b[0;34m,\u001b[0m \u001b[0mreturn_inverse\u001b[0m\u001b[0;34m,\u001b[0m \u001b[0mreturn_counts\u001b[0m\u001b[0;34m)\u001b[0m\u001b[0;34m\u001b[0m\u001b[0;34m\u001b[0m\u001b[0m\n\u001b[0m\u001b[1;32m    265\u001b[0m         \u001b[0;32mreturn\u001b[0m \u001b[0m_unpack_tuple\u001b[0m\u001b[0;34m(\u001b[0m\u001b[0mret\u001b[0m\u001b[0;34m)\u001b[0m\u001b[0;34m\u001b[0m\u001b[0;34m\u001b[0m\u001b[0m\n\u001b[1;32m    266\u001b[0m \u001b[0;34m\u001b[0m\u001b[0m\n",
      "\u001b[0;32m~/anaconda3/envs/learn-env/lib/python3.6/site-packages/numpy/lib/arraysetops.py\u001b[0m in \u001b[0;36m_unique1d\u001b[0;34m(ar, return_index, return_inverse, return_counts)\u001b[0m\n\u001b[1;32m    310\u001b[0m         \u001b[0maux\u001b[0m \u001b[0;34m=\u001b[0m \u001b[0mar\u001b[0m\u001b[0;34m[\u001b[0m\u001b[0mperm\u001b[0m\u001b[0;34m]\u001b[0m\u001b[0;34m\u001b[0m\u001b[0;34m\u001b[0m\u001b[0m\n\u001b[1;32m    311\u001b[0m     \u001b[0;32melse\u001b[0m\u001b[0;34m:\u001b[0m\u001b[0;34m\u001b[0m\u001b[0;34m\u001b[0m\u001b[0m\n\u001b[0;32m--> 312\u001b[0;31m         \u001b[0mar\u001b[0m\u001b[0;34m.\u001b[0m\u001b[0msort\u001b[0m\u001b[0;34m(\u001b[0m\u001b[0;34m)\u001b[0m\u001b[0;34m\u001b[0m\u001b[0;34m\u001b[0m\u001b[0m\n\u001b[0m\u001b[1;32m    313\u001b[0m         \u001b[0maux\u001b[0m \u001b[0;34m=\u001b[0m \u001b[0mar\u001b[0m\u001b[0;34m\u001b[0m\u001b[0;34m\u001b[0m\u001b[0m\n\u001b[1;32m    314\u001b[0m     \u001b[0mmask\u001b[0m \u001b[0;34m=\u001b[0m \u001b[0mnp\u001b[0m\u001b[0;34m.\u001b[0m\u001b[0mempty\u001b[0m\u001b[0;34m(\u001b[0m\u001b[0maux\u001b[0m\u001b[0;34m.\u001b[0m\u001b[0mshape\u001b[0m\u001b[0;34m,\u001b[0m \u001b[0mdtype\u001b[0m\u001b[0;34m=\u001b[0m\u001b[0mnp\u001b[0m\u001b[0;34m.\u001b[0m\u001b[0mbool_\u001b[0m\u001b[0;34m)\u001b[0m\u001b[0;34m\u001b[0m\u001b[0;34m\u001b[0m\u001b[0m\n",
      "\u001b[0;31mTypeError\u001b[0m: '<' not supported between instances of 'str' and 'int'"
     ]
    }
   ],
   "source": [
    "# checking accuracy\n",
    "print('Test Accuracy score: ', accuracy_score(testdf, dummy_pred))\n",
    "# checking accuracy\n",
    "print('Test F1 score: ', f1_score(testdf, dummy_pred))\n",
    "# checking recall\n",
    "print('Test Recall score: ', recall_score(testdf, dummy_pred))\n",
    "# checking precision\n",
    "print('Test Precision score: ', precision_score(testdf, dummy_pred))\n",
    "\n",
    "\n",
    "# Confusion Matrix\n",
    "from yellowbrick.classifier import ConfusionMatrix\n",
    "cm = ConfusionMatrix(dummy, classes=[0,1])\n",
    "\n",
    "cm.fit(X_train, y_train)\n",
    "cm.score(X_test, y_test)\n",
    "# cm.poof()"
   ]
  },
  {
   "cell_type": "code",
   "execution_count": null,
   "metadata": {},
   "outputs": [],
   "source": [
    "def evaluation(y, y_hat, title = 'Confusion Matrix'):\n",
    "    '''takes in predicted and true values.\n",
    "    The function then prints out a classifcation report\n",
    "    as well as a confusion matrix using seaborn's heatmap.'''\n",
    "    \n",
    "    import seaborn as sns\n",
    "    cm = confusion_matrix(y, y_hat)\n",
    "    precision = precision_score(y, y_hat, average = 'weighted')\n",
    "    recall = recall_score(y, y_hat, average = 'weighted')\n",
    "    accuracy = accuracy_score(y,y_hat)\n",
    "    print(classification_report(y, y_hat))\n",
    "    print('Accuracy: ', accuracy)\n",
    "    sns.heatmap(cm,  cmap= 'Greens', annot=True)\n",
    "    plt.xlabel('predicted')\n",
    "    plt.ylabel('actual')\n",
    "    plt.title(title)\n",
    "    plt.show()"
   ]
  },
  {
   "cell_type": "code",
   "execution_count": null,
   "metadata": {},
   "outputs": [],
   "source": [
    "import matplotlib.pyplot as plt \n",
    "%matplotlib inline \n",
    "\n",
    "def create_plot_of_feature_importances(model, X):\n",
    "    ''' \n",
    "    Inputs: \n",
    "    \n",
    "    model: A trained ensemble model instance\n",
    "    X: a dataframe of the features used to train the model\n",
    "    '''\n",
    "    \n",
    "    feat_importances = model.feature_importances_\n",
    "\n",
    "    features_and_importances = zip(X.columns, feat_importances)\n",
    "    features_and_importances = sorted(features_and_importances, \n",
    "                                     key = lambda x: x[1], reverse=True)\n",
    "    \n",
    "    features = [i[0] for i in features_and_importances]\n",
    "    importances = [i[1] for i in features_and_importances]\n",
    "    \n",
    "    plt.figure(figsize=(10, 6))\n",
    "    plt.barh(features, importances)\n",
    "    plt.gca().invert_yaxis()\n",
    "    plt.title('Feature Importances')\n",
    "    plt.xlabel('importance')"
   ]
  },
  {
   "cell_type": "code",
   "execution_count": 144,
   "metadata": {},
   "outputs": [
    {
     "data": {
      "text/html": [
       "<div>\n",
       "<style scoped>\n",
       "    .dataframe tbody tr th:only-of-type {\n",
       "        vertical-align: middle;\n",
       "    }\n",
       "\n",
       "    .dataframe tbody tr th {\n",
       "        vertical-align: top;\n",
       "    }\n",
       "\n",
       "    .dataframe thead th {\n",
       "        text-align: right;\n",
       "    }\n",
       "</style>\n",
       "<table border=\"1\" class=\"dataframe\">\n",
       "  <thead>\n",
       "    <tr style=\"text-align: right;\">\n",
       "      <th></th>\n",
       "      <th>Model</th>\n",
       "      <th>Score</th>\n",
       "    </tr>\n",
       "  </thead>\n",
       "  <tbody>\n",
       "    <tr>\n",
       "      <td>4</td>\n",
       "      <td>Support Vector Machines</td>\n",
       "      <td>0.905</td>\n",
       "    </tr>\n",
       "    <tr>\n",
       "      <td>0</td>\n",
       "      <td>Decision Tree</td>\n",
       "      <td>0.883</td>\n",
       "    </tr>\n",
       "    <tr>\n",
       "      <td>1</td>\n",
       "      <td>Random Forest</td>\n",
       "      <td>0.878</td>\n",
       "    </tr>\n",
       "    <tr>\n",
       "      <td>5</td>\n",
       "      <td>XG Boost</td>\n",
       "      <td>0.841</td>\n",
       "    </tr>\n",
       "    <tr>\n",
       "      <td>3</td>\n",
       "      <td>Naive Bayes</td>\n",
       "      <td>0.833</td>\n",
       "    </tr>\n",
       "    <tr>\n",
       "      <td>2</td>\n",
       "      <td>Logistic Regression</td>\n",
       "      <td>0.819</td>\n",
       "    </tr>\n",
       "  </tbody>\n",
       "</table>\n",
       "</div>"
      ],
      "text/plain": [
       "                     Model  Score\n",
       "4  Support Vector Machines  0.905\n",
       "0            Decision Tree  0.883\n",
       "1            Random Forest  0.878\n",
       "5                 XG Boost  0.841\n",
       "3              Naive Bayes  0.833\n",
       "2      Logistic Regression  0.819"
      ]
     },
     "execution_count": 144,
     "metadata": {},
     "output_type": "execute_result"
    }
   ],
   "source": [
    "models = pd.DataFrame({\n",
    "    'Model': ['Decision Tree', 'Random Forest', 'Logistic Regression',\n",
    "              'Naive Bayes', 'Support Vector Machines', \n",
    "              'XG Boost'],\n",
    "    'Score': [dt_accur, rf_accur, \n",
    "              lr_acc, nb_accur, \n",
    "              sv_accur, xg_acc]})\n",
    "round(models.sort_values(by='Score', ascending=False),3)"
   ]
  },
  {
   "cell_type": "code",
   "execution_count": null,
   "metadata": {},
   "outputs": [],
   "source": []
  }
 ],
 "metadata": {
  "kernelspec": {
   "display_name": "Python 3",
   "language": "python",
   "name": "python3"
  },
  "language_info": {
   "codemirror_mode": {
    "name": "ipython",
    "version": 3
   },
   "file_extension": ".py",
   "mimetype": "text/x-python",
   "name": "python",
   "nbconvert_exporter": "python",
   "pygments_lexer": "ipython3",
   "version": "3.6.9"
  }
 },
 "nbformat": 4,
 "nbformat_minor": 4
}
